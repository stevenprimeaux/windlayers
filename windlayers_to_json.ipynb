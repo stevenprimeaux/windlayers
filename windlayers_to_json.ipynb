{
 "cells": [
  {
   "cell_type": "code",
   "execution_count": null,
   "id": "8abd1716-d03d-40b3-96b1-397bd85c7a04",
   "metadata": {},
   "outputs": [],
   "source": [
    "import geopandas as gpd\n",
    "\n",
    "from fiona import listlayers"
   ]
  },
  {
   "cell_type": "code",
   "execution_count": null,
   "id": "c919f39e-366a-4a84-84ca-4eb97f90696b",
   "metadata": {},
   "outputs": [],
   "source": [
    "name_gdb = \"windlayers.gdb\"\n",
    "sorted(listlayers(name_gdb))"
   ]
  },
  {
   "cell_type": "code",
   "execution_count": null,
   "id": "eab5d04e-8f64-4ba4-9276-42f2ebbff610",
   "metadata": {},
   "outputs": [],
   "source": [
    "layers = [\n",
    "    'BOEM_Wind_Planning_Area_Outlines_11_3_2023',\n",
    "    'BOEM_Wind_Planning_Areas_11_3_2023',\n",
    "    'Wind_Lease_Outlines_11_16_2023',\n",
    "    'BOEM_Wind_Leases_11_16_2023',\n",
    "    'BOEM_MHKLeasesandPlanningAreas',\n",
    "]\n",
    "layers"
   ]
  },
  {
   "cell_type": "code",
   "execution_count": null,
   "id": "c6b7f21e-2561-44b8-a4ca-ae702995f7d9",
   "metadata": {},
   "outputs": [],
   "source": [
    "layers_clean = [\"plannings_outline\", \"plannings\", \"leases_outline\", \"leases\", \"mhks\",]\n",
    "layers_clean"
   ]
  },
  {
   "cell_type": "code",
   "execution_count": null,
   "id": "e423a668-fe06-4165-b751-2e29547c7641",
   "metadata": {
    "scrolled": true
   },
   "outputs": [],
   "source": [
    "layers_dict = {}\n",
    "for (layer, layer_clean) in zip(layers, layers_clean):\n",
    "    gpd.read_file(name_gdb, layer=layer).to_file(f\"json/{layer_clean}.json\", driver=\"GeoJSON\")"
   ]
  },
  {
   "cell_type": "code",
   "execution_count": null,
   "id": "09f18bc5-49b8-4d4f-97ba-66fc5dc6a457",
   "metadata": {},
   "outputs": [],
   "source": []
  }
 ],
 "metadata": {
  "kernelspec": {
   "display_name": "Python 3 (ipykernel)",
   "language": "python",
   "name": "python3"
  },
  "language_info": {
   "codemirror_mode": {
    "name": "ipython",
    "version": 3
   },
   "file_extension": ".py",
   "mimetype": "text/x-python",
   "name": "python",
   "nbconvert_exporter": "python",
   "pygments_lexer": "ipython3",
   "version": "3.11.7"
  }
 },
 "nbformat": 4,
 "nbformat_minor": 5
}
